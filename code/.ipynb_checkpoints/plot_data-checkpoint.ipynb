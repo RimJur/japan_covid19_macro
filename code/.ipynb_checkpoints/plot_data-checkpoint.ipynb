{
 "cells": [
  {
   "cell_type": "code",
   "execution_count": 47,
   "id": "8acb88d4",
   "metadata": {},
   "outputs": [],
   "source": [
    "import polars as pl\n",
    "import altair as alt"
   ]
  },
  {
   "cell_type": "code",
   "execution_count": 48,
   "id": "a6141de3",
   "metadata": {},
   "outputs": [],
   "source": [
    "gdp = \"../data/gdp.csv\"\n",
    "credit_g = \"../data/credit_g.csv\"\n",
    "ir = \"../data/ir.csv\"\n",
    "m2 = \"../data/m2.csv\"\n",
    "real_est_p = \"../data/real_est_p.csv\"\n",
    "unemp_r = \"../data/unemp_r.csv\""
   ]
  },
  {
   "cell_type": "code",
   "execution_count": 49,
   "id": "407080a7",
   "metadata": {},
   "outputs": [],
   "source": [
    "gdp_df = pl.read_csv(gdp, try_parse_dates=True)\n",
    "credit_g_df = pl.read_csv(credit_g, try_parse_dates=True)\n",
    "ir_df = pl.read_csv(ir, try_parse_dates=True)\n",
    "m2_df = pl.read_csv(m2, try_parse_dates=True)\n",
    "real_est_p_df = pl.read_csv(real_est_p, try_parse_dates=True)\n",
    "unemp_r_df = pl.read_csv(unemp_r, try_parse_dates=True)"
   ]
  },
  {
   "cell_type": "code",
   "execution_count": 45,
   "id": "bfb877a5",
   "metadata": {},
   "outputs": [
    {
     "data": {
      "text/html": [
       "<div><style>\n",
       ".dataframe > thead > tr,\n",
       ".dataframe > tbody > tr {\n",
       "  text-align: right;\n",
       "  white-space: pre-wrap;\n",
       "}\n",
       "</style>\n",
       "<small>shape: (8, 2)</small><table border=\"1\" class=\"dataframe\"><thead><tr><th>gdp_current_dol_in_bln</th><th>year</th></tr><tr><td>i64</td><td>i64</td></tr></thead><tbody><tr><td>1129</td><td>1980</td></tr><tr><td>1245</td><td>1981</td></tr><tr><td>1158</td><td>1982</td></tr><tr><td>1270</td><td>1983</td></tr><tr><td>1345</td><td>1984</td></tr><tr><td>1427</td><td>1985</td></tr><tr><td>2120</td><td>1986</td></tr><tr><td>2580</td><td>1987</td></tr></tbody></table></div>"
      ],
      "text/plain": [
       "shape: (8, 2)\n",
       "┌────────────────────────┬──────┐\n",
       "│ gdp_current_dol_in_bln ┆ year │\n",
       "│ ---                    ┆ ---  │\n",
       "│ i64                    ┆ i64  │\n",
       "╞════════════════════════╪══════╡\n",
       "│ 1129                   ┆ 1980 │\n",
       "│ 1245                   ┆ 1981 │\n",
       "│ 1158                   ┆ 1982 │\n",
       "│ 1270                   ┆ 1983 │\n",
       "│ 1345                   ┆ 1984 │\n",
       "│ 1427                   ┆ 1985 │\n",
       "│ 2120                   ┆ 1986 │\n",
       "│ 2580                   ┆ 1987 │\n",
       "└────────────────────────┴──────┘"
      ]
     },
     "execution_count": 45,
     "metadata": {},
     "output_type": "execute_result"
    }
   ],
   "source": [
    "gdp_out = gdp_df.select((pl.col(\"GDP (current US$)\") / 1000000000).cast(pl.Int64).alias(\"gdp_current_dol_in_bln\"),\n",
    "                pl.col(\"Year\").alias(\"year\"))\n",
    "gdp_out.head(8)"
   ]
  },
  {
   "cell_type": "code",
   "execution_count": 62,
   "id": "8a66d40d",
   "metadata": {},
   "outputs": [
    {
     "data": {
      "text/html": [
       "\n",
       "<style>\n",
       "  #altair-viz-29eb52499f454a49aa130f3bfdf2f52c.vega-embed {\n",
       "    width: 100%;\n",
       "    display: flex;\n",
       "  }\n",
       "\n",
       "  #altair-viz-29eb52499f454a49aa130f3bfdf2f52c.vega-embed details,\n",
       "  #altair-viz-29eb52499f454a49aa130f3bfdf2f52c.vega-embed details summary {\n",
       "    position: relative;\n",
       "  }\n",
       "</style>\n",
       "<div id=\"altair-viz-29eb52499f454a49aa130f3bfdf2f52c\"></div>\n",
       "<script type=\"text/javascript\">\n",
       "  var VEGA_DEBUG = (typeof VEGA_DEBUG == \"undefined\") ? {} : VEGA_DEBUG;\n",
       "  (function(spec, embedOpt){\n",
       "    let outputDiv = document.currentScript.previousElementSibling;\n",
       "    if (outputDiv.id !== \"altair-viz-29eb52499f454a49aa130f3bfdf2f52c\") {\n",
       "      outputDiv = document.getElementById(\"altair-viz-29eb52499f454a49aa130f3bfdf2f52c\");\n",
       "    }\n",
       "    const paths = {\n",
       "      \"vega\": \"https://cdn.jsdelivr.net/npm/vega@5?noext\",\n",
       "      \"vega-lib\": \"https://cdn.jsdelivr.net/npm/vega-lib?noext\",\n",
       "      \"vega-lite\": \"https://cdn.jsdelivr.net/npm/vega-lite@5.20.1?noext\",\n",
       "      \"vega-embed\": \"https://cdn.jsdelivr.net/npm/vega-embed@6?noext\",\n",
       "    };\n",
       "\n",
       "    function maybeLoadScript(lib, version) {\n",
       "      var key = `${lib.replace(\"-\", \"\")}_version`;\n",
       "      return (VEGA_DEBUG[key] == version) ?\n",
       "        Promise.resolve(paths[lib]) :\n",
       "        new Promise(function(resolve, reject) {\n",
       "          var s = document.createElement('script');\n",
       "          document.getElementsByTagName(\"head\")[0].appendChild(s);\n",
       "          s.async = true;\n",
       "          s.onload = () => {\n",
       "            VEGA_DEBUG[key] = version;\n",
       "            return resolve(paths[lib]);\n",
       "          };\n",
       "          s.onerror = () => reject(`Error loading script: ${paths[lib]}`);\n",
       "          s.src = paths[lib];\n",
       "        });\n",
       "    }\n",
       "\n",
       "    function showError(err) {\n",
       "      outputDiv.innerHTML = `<div class=\"error\" style=\"color:red;\">${err}</div>`;\n",
       "      throw err;\n",
       "    }\n",
       "\n",
       "    function displayChart(vegaEmbed) {\n",
       "      vegaEmbed(outputDiv, spec, embedOpt)\n",
       "        .catch(err => showError(`Javascript Error: ${err.message}<br>This usually means there's a typo in your chart specification. See the javascript console for the full traceback.`));\n",
       "    }\n",
       "\n",
       "    if(typeof define === \"function\" && define.amd) {\n",
       "      requirejs.config({paths});\n",
       "      require([\"vega-embed\"], displayChart, err => showError(`Error loading script: ${err.message}`));\n",
       "    } else {\n",
       "      maybeLoadScript(\"vega\", \"5\")\n",
       "        .then(() => maybeLoadScript(\"vega-lite\", \"5.20.1\"))\n",
       "        .then(() => maybeLoadScript(\"vega-embed\", \"6\"))\n",
       "        .catch(showError)\n",
       "        .then(() => displayChart(vegaEmbed));\n",
       "    }\n",
       "  })({\"config\": {\"view\": {\"continuousWidth\": 300, \"continuousHeight\": 300}, \"scale\": {\"zero\": false}}, \"data\": {\"name\": \"data-654f6fd754e7701f6246538961059247\"}, \"mark\": {\"type\": \"line\", \"tooltip\": true}, \"encoding\": {\"x\": {\"axis\": {\"format\": \"d\"}, \"field\": \"year\", \"type\": \"quantitative\"}, \"y\": {\"field\": \"gdp_current_dol_in_bln\", \"scale\": {\"zero\": true}, \"type\": \"quantitative\"}}, \"params\": [{\"name\": \"param_22\", \"select\": {\"type\": \"interval\", \"encodings\": [\"x\", \"y\"]}, \"bind\": \"scales\"}], \"width\": 400, \"$schema\": \"https://vega.github.io/schema/vega-lite/v5.20.1.json\", \"datasets\": {\"data-654f6fd754e7701f6246538961059247\": [{\"gdp_current_dol_in_bln\": 1129, \"year\": 1980}, {\"gdp_current_dol_in_bln\": 1245, \"year\": 1981}, {\"gdp_current_dol_in_bln\": 1158, \"year\": 1982}, {\"gdp_current_dol_in_bln\": 1270, \"year\": 1983}, {\"gdp_current_dol_in_bln\": 1345, \"year\": 1984}, {\"gdp_current_dol_in_bln\": 1427, \"year\": 1985}, {\"gdp_current_dol_in_bln\": 2120, \"year\": 1986}, {\"gdp_current_dol_in_bln\": 2580, \"year\": 1987}, {\"gdp_current_dol_in_bln\": 3125, \"year\": 1988}, {\"gdp_current_dol_in_bln\": 3109, \"year\": 1989}, {\"gdp_current_dol_in_bln\": 3185, \"year\": 1990}, {\"gdp_current_dol_in_bln\": 3648, \"year\": 1991}, {\"gdp_current_dol_in_bln\": 3980, \"year\": 1992}, {\"gdp_current_dol_in_bln\": 4536, \"year\": 1993}, {\"gdp_current_dol_in_bln\": 4998, \"year\": 1994}, {\"gdp_current_dol_in_bln\": 5545, \"year\": 1995}, {\"gdp_current_dol_in_bln\": 4923, \"year\": 1996}, {\"gdp_current_dol_in_bln\": 4492, \"year\": 1997}, {\"gdp_current_dol_in_bln\": 4098, \"year\": 1998}, {\"gdp_current_dol_in_bln\": 4635, \"year\": 1999}, {\"gdp_current_dol_in_bln\": 4968, \"year\": 2000}, {\"gdp_current_dol_in_bln\": 4374, \"year\": 2001}, {\"gdp_current_dol_in_bln\": 4182, \"year\": 2002}, {\"gdp_current_dol_in_bln\": 4519, \"year\": 2003}, {\"gdp_current_dol_in_bln\": 4893, \"year\": 2004}, {\"gdp_current_dol_in_bln\": 4831, \"year\": 2005}, {\"gdp_current_dol_in_bln\": 4601, \"year\": 2006}, {\"gdp_current_dol_in_bln\": 4579, \"year\": 2007}, {\"gdp_current_dol_in_bln\": 5106, \"year\": 2008}, {\"gdp_current_dol_in_bln\": 5289, \"year\": 2009}, {\"gdp_current_dol_in_bln\": 5759, \"year\": 2010}, {\"gdp_current_dol_in_bln\": 6233, \"year\": 2011}, {\"gdp_current_dol_in_bln\": 6272, \"year\": 2012}, {\"gdp_current_dol_in_bln\": 5212, \"year\": 2013}, {\"gdp_current_dol_in_bln\": 4896, \"year\": 2014}, {\"gdp_current_dol_in_bln\": 4444, \"year\": 2015}, {\"gdp_current_dol_in_bln\": 5003, \"year\": 2016}, {\"gdp_current_dol_in_bln\": 4930, \"year\": 2017}, {\"gdp_current_dol_in_bln\": 5040, \"year\": 2018}, {\"gdp_current_dol_in_bln\": 5117, \"year\": 2019}, {\"gdp_current_dol_in_bln\": 5055, \"year\": 2020}, {\"gdp_current_dol_in_bln\": 5034, \"year\": 2021}, {\"gdp_current_dol_in_bln\": 4256, \"year\": 2022}, {\"gdp_current_dol_in_bln\": 4212, \"year\": 2023}, {\"gdp_current_dol_in_bln\": 5034, \"year\": 2021}, {\"gdp_current_dol_in_bln\": 4256, \"year\": 2022}, {\"gdp_current_dol_in_bln\": 4212, \"year\": 2023}, {\"gdp_current_dol_in_bln\": 5034, \"year\": 2021}, {\"gdp_current_dol_in_bln\": 4256, \"year\": 2022}, {\"gdp_current_dol_in_bln\": 4212, \"year\": 2023}]}}, {\"mode\": \"vega-lite\"});\n",
       "</script>"
      ],
      "text/plain": [
       "alt.Chart(...)"
      ]
     },
     "execution_count": 62,
     "metadata": {},
     "output_type": "execute_result"
    }
   ],
   "source": [
    "gdp_chart = (\n",
    "    (gdp_out.plot.line(\n",
    "        x=alt.X(\"year:Q\", axis = alt.Axis(format = \"d\")), \n",
    "        y=alt.Y(\"gdp_current_dol_in_bln:Q\", scale = alt.Scale(zero = True))\n",
    "                      )\n",
    "    )\n",
    "        .properties(width=400)\n",
    "        .configure_scale(zero=False)\n",
    ")\n",
    "gdp_chart.save('../charts/gdp_chart.png')\n",
    "gdp_chart"
   ]
  }
 ],
 "metadata": {
  "kernelspec": {
   "display_name": "Python 3 (ipykernel)",
   "language": "python",
   "name": "python3"
  },
  "language_info": {
   "codemirror_mode": {
    "name": "ipython",
    "version": 3
   },
   "file_extension": ".py",
   "mimetype": "text/x-python",
   "name": "python",
   "nbconvert_exporter": "python",
   "pygments_lexer": "ipython3",
   "version": "3.12.3"
  }
 },
 "nbformat": 4,
 "nbformat_minor": 5
}
